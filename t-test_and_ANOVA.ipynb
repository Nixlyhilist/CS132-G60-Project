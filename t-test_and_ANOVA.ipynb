{
 "cells": [
  {
   "cell_type": "code",
   "execution_count": null,
   "metadata": {},
   "outputs": [],
   "source": [
    "import numpy as np\n",
    "import pandas as pd\n",
    "from scipy import stats\n",
    "\n",
    "df = pd.read_excel(\"dataset.xlsx\").copy()\n",
    "\n",
    "# Check which columns have null values\n",
    "# print(df.isna().any()) # Should only be True for 'Account bio' and 'Location'\n",
    "\n",
    "# Dealing with null values\n",
    "df[\"Account bio\"] = df[\"Account bio\"].fillna(\"No bio\")\n",
    "df[\"Location\"] = df[\"Location\"].fillna(\"No location\")\n",
    "\n",
    "# Joined\n",
    "for i in range(len(df)):\n",
    "    if isinstance(df[\"Joined\"][i], str):\n",
    "        date = df[\"Joined\"][i].split(\"/\")\n",
    "        df[\"Joined\"][i] = f\"{('0' * (2 - len(date[0]))) + date[0]}/{df['Joined'][i][-2:]}\"\n",
    "    else:\n",
    "        date = str(df[\"Joined\"][i]).split()[0].split(\"-\")\n",
    "        df[\"Joined\"][i] = f\"{date[1]}/{date[2]}\"\n",
    "\n",
    "# Interactions\n",
    "df[\"Interactions\"] = df[\"Likes\"] + df[\"Replies\"] + df[\"Retweets\"]\n",
    "\n",
    "# Date posted\n",
    "for i in range(len(df)):\n",
    "    if isinstance(df[\"Date posted\"][i], str):\n",
    "        date = df[\"Date posted\"][i].split()[0].split(\"/\")\n",
    "        df[\"Date posted\"][i] = int(date[1]) + (12 * (int(date[2][2:] if len(date[2]) > 2 else date[2]) - 16))\n",
    "        # df[\"Date posted\"][i] = f\"{('0' * (2 - len(date[1]))) + date[1]}/{date[2][2:] if len(date[2]) > 2 else date[2]}\"\n",
    "    else:\n",
    "        date = str(df[\"Date posted\"][i]).split()[0].split(\"-\")\n",
    "        df[\"Date posted\"][i] = int(date[2]) + (12 * (int(date[0][2:]) - 16))\n",
    "        # df[\"Date posted\"][i] = f\"{date[2]}/{date[0][2:]}\"\n",
    "\n",
    "# mm_yy = [f\"{i if i >= 10 else '0' + str(i)}/{j}\" for j in range(16, 23) for i in range(1, 13)]\n",
    "mm_yy = [i for i in range(1, 85)]\n",
    "date_df = pd.DataFrame(mm_yy, columns=[\"Month\"])\n",
    "date_df[\"Count\"] = date_df[\"Month\"].map(df[\"Date posted\"].value_counts())\n",
    "date_df[\"Count\"] = date_df[\"Count\"].fillna(0)\n",
    "date_df[\"Interactions\"] = date_df[\"Month\"].map(df.groupby(\"Date posted\")[\"Interactions\"].sum())\n",
    "date_df[\"Interactions\"] = date_df[\"Interactions\"].fillna(0)"
   ]
  },
  {
   "attachments": {},
   "cell_type": "markdown",
   "metadata": {},
   "source": [
    "# T-TEST"
   ]
  },
  {
   "cell_type": "code",
   "execution_count": null,
   "metadata": {},
   "outputs": [],
   "source": [
    "# ep2016    -> 2016 election period (March - June)\n",
    "# ep2019    -> 2019 election period (March - June)\n",
    "# ep2022    -> 2022 election period (March - June)\n",
    "# total_ep  -> all 3 election periods combined\n",
    "# non_ep    -> Non-election period months\n",
    "ep2016 = np.asarray([date_df[\"Count\"][i-1] for i in range(3, 8)])\n",
    "ep2019 = np.asarray([date_df[\"Count\"][i-1] for i in range(39, 44)])\n",
    "ep2022 = np.asarray([date_df[\"Count\"][i-1] for i in range(75, 80)])\n",
    "total_ep = np.asarray([date_df[\"Count\"][i-1] for j in [3, 39, 75] for i in range(j, j + 5)])\n",
    "non_ep = np.asarray([date_df[\"Count\"][i-1] for i in range(1, 85) if i not in [k for k in range(3, 8)] + [k for k in range(39, 44)] + [k for k in range(75, 80)]])\n",
    "\n",
    "# Mean of each sample group\n",
    "print(f\"ep2016 mean: {ep2016.mean()}\\nep2019 mean: {ep2019.mean()}\\nep2022 mean: {ep2022.mean()}\")\n",
    "print(f\"total_ep mean: {total_ep.mean()}\\nnon_ep mean: {non_ep.mean()}\")\n",
    "\n",
    "# Mean of total population (all tweets)\n",
    "pop_mean = date_df['Count'].mean()\n",
    "print(f\"Population mean: {pop_mean}\")\n",
    "\n",
    "# ------------------------------------------------ T-TEST ------------------------------------------------\n",
    "\n",
    "# Null hypothesis: ep_2016/ep_2019/ep_2022/total_ep is NOT significantly different from total population\n",
    "\n",
    "# Checks if 2016 election period is significantly different from the total population\n",
    "t_statistic, p_value = stats.ttest_1samp(a=ep2016, popmean=pop_mean, alternative=\"greater\")\n",
    "print(f\"t-test p-value of ep_2016 against population: {p_value}\")\n",
    "\n",
    "# Checks if 2019 election period is significantly different from the total population\n",
    "t_statistic, p_value = stats.ttest_1samp(a=ep2019, popmean=pop_mean, alternative=\"greater\")\n",
    "print(f\"t-test p-value of ep_2019 against population: {p_value}\")\n",
    "\n",
    "# Checks if 2022 election period is significantly different from the total population\n",
    "t_statistic, p_value = stats.ttest_1samp(a=ep2022, popmean=pop_mean, alternative=\"greater\")\n",
    "print(f\"t-test p-value of ep_2022 against population: {p_value}\")\n",
    "\n",
    "# Checks if combined election periods are significantly different from the total population\n",
    "t_statistic, p_value = stats.ttest_1samp(a=total_ep, popmean=pop_mean, alternative=\"greater\")\n",
    "print(f\"t-test p-value of total_ep against population: {p_value}\")\n",
    "\n",
    "# If p-value is less than 0.05, reject the hypothesis, else, accept the hypothesis\n",
    "\n",
    "# --------------------------------------------------------------------------------------------------------"
   ]
  },
  {
   "attachments": {},
   "cell_type": "markdown",
   "metadata": {},
   "source": [
    "# ANOVA"
   ]
  },
  {
   "cell_type": "code",
   "execution_count": null,
   "metadata": {},
   "outputs": [],
   "source": [
    "# -------------------- ANOVA --------------------\n",
    "\n",
    "# Null hypothesis: ep_2016, ep_2019, ep_2022, non_ep/date_df['Count'] is NOT significantly different from each other\n",
    "\n",
    "# Checks if the four groups are significantly different from each other (not particularly helpful for our hypothesis)\n",
    "    # I'm not sure which of the two to use so use this test with caution\n",
    "t_statistic, p_value = stats.f_oneway(ep2016, ep2019, ep2022, non_ep)\n",
    "# t_statistic, p_value = stats.f_oneway(ep2016, ep2019, ep2022, date_df['Count'])\n",
    "\n",
    "print(f\"ANOVA p-value of the three election periods and non-election period: {p_value}\")\n",
    "\n",
    "# If p-value is less than 0.05, reject the hypothesis, else, accept the hypothesis\n",
    "\n",
    "# -----------------------------------------------"
   ]
  }
 ],
 "metadata": {
  "kernelspec": {
   "display_name": "Python 3",
   "language": "python",
   "name": "python3"
  },
  "language_info": {
   "codemirror_mode": {
    "name": "ipython",
    "version": 3
   },
   "file_extension": ".py",
   "mimetype": "text/x-python",
   "name": "python",
   "nbconvert_exporter": "python",
   "pygments_lexer": "ipython3",
   "version": "3.10.0"
  },
  "orig_nbformat": 4
 },
 "nbformat": 4,
 "nbformat_minor": 2
}
