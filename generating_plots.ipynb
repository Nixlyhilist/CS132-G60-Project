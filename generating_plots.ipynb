{
 "cells": [
  {
   "attachments": {},
   "cell_type": "markdown",
   "metadata": {},
   "source": [
    "# Data Pre-processing and Graph/Chart Generation"
   ]
  },
  {
   "attachments": {},
   "cell_type": "markdown",
   "metadata": {},
   "source": [
    "## Importing libraries and the Tweet dataset"
   ]
  },
  {
   "cell_type": "code",
   "execution_count": null,
   "metadata": {},
   "outputs": [],
   "source": [
    "import matplotlib.pyplot as plt\n",
    "import pandas as pd\n",
    "import plotly.express as px\n",
    "import plotly.graph_objects as go\n",
    "import numpy as np\n",
    "\n",
    "df = pd.read_excel(\"dataset.xlsx\").copy()"
   ]
  },
  {
   "attachments": {},
   "cell_type": "markdown",
   "metadata": {},
   "source": [
    "### Data pre-processing for the Tweet dataset"
   ]
  },
  {
   "cell_type": "code",
   "execution_count": null,
   "metadata": {},
   "outputs": [],
   "source": [
    "# Check which columns have null values\n",
    "# print(df.isna().any()) # Should only be True for 'Account bio' and 'Location'\n",
    "\n",
    "# Dealing with null values\n",
    "df[\"Account bio\"] = df[\"Account bio\"].fillna(\"No bio\")\n",
    "df[\"Location\"] = df[\"Location\"].fillna(\"No location\")\n",
    "\n",
    "# Joined\n",
    "for i in range(len(df)):\n",
    "    if isinstance(df[\"Joined\"][i], str):\n",
    "        date = df[\"Joined\"][i].split(\"/\")\n",
    "        df[\"Joined\"][i] = f\"{('0' * (2 - len(date[0]))) + date[0]}/{df['Joined'][i][-2:]}\"\n",
    "    else:\n",
    "        date = str(df[\"Joined\"][i]).split()[0].split(\"-\")\n",
    "        df[\"Joined\"][i] = f\"{date[1]}/{date[2]}\"\n",
    "\n",
    "# Interactions\n",
    "df[\"Interactions\"] = df[\"Likes\"] + df[\"Replies\"] + df[\"Retweets\"]\n",
    "\n",
    "# Date posted\n",
    "for i in range(len(df)):\n",
    "    if isinstance(df[\"Date posted\"][i], str):\n",
    "        date = df[\"Date posted\"][i].split()[0].split(\"/\")\n",
    "        df[\"Date posted\"][i] = int(date[1]) + (12 * (int(date[2][2:] if len(date[2]) > 2 else date[2]) - 16))\n",
    "        # df[\"Date posted\"][i] = f\"{('0' * (2 - len(date[1]))) + date[1]}/{date[2][2:] if len(date[2]) > 2 else date[2]}\"\n",
    "    else:\n",
    "        date = str(df[\"Date posted\"][i]).split()[0].split(\"-\")\n",
    "        df[\"Date posted\"][i] = int(date[2]) + (12 * (int(date[0][2:]) - 16))\n",
    "        # df[\"Date posted\"][i] = f\"{date[2]}/{date[0][2:]}\""
   ]
  },
  {
   "attachments": {},
   "cell_type": "markdown",
   "metadata": {},
   "source": [
    "### Creating a new dataframe based on the Tweet dataset binned by months"
   ]
  },
  {
   "cell_type": "code",
   "execution_count": null,
   "metadata": {},
   "outputs": [],
   "source": [
    "mm_yy_date = [f\"{i if i >= 10 else '0' + str(i)}/{j}\" for j in range(16, 23) for i in range(1, 13)]\n",
    "mm_yy = [i for i in range(1, 85)]\n",
    "date_df = pd.DataFrame(mm_yy, columns=[\"Month\"])\n",
    "date_df[\"Month_date\"] = mm_yy_date\n",
    "date_df[\"Count\"] = date_df[\"Month\"].map(df[\"Date posted\"].value_counts())\n",
    "date_df[\"Count\"] = date_df[\"Count\"].fillna(0)\n",
    "date_df[\"Interactions\"] = date_df[\"Month\"].map(df.groupby(\"Date posted\")[\"Interactions\"].sum())\n",
    "date_df[\"Interactions\"] = date_df[\"Interactions\"].fillna(0)\n",
    "\n",
    "temp = list(date_df[\"Count\"])\n",
    "m = [2, 3, 4, 5, 6, 38, 39, 40, 41, 42, 74, 75, 76, 77, 78]\n",
    "date_df[\"ep\"] = np.asarray([temp[i] if i in m else None for i in range(84)])"
   ]
  },
  {
   "attachments": {},
   "cell_type": "markdown",
   "metadata": {},
   "source": [
    "### Generating a heatmap for the whole Tweet dataset and another heatmap focusing on Followers and Interactions"
   ]
  },
  {
   "cell_type": "code",
   "execution_count": null,
   "metadata": {},
   "outputs": [],
   "source": [
    "fig = px.imshow(df.corr(), text_auto=True, title=\"df dataset numerical variable correlation\")\n",
    "fig.show()\n",
    "# fig.write_html(\"dfcorr.html\")\n",
    "fig = px.imshow(df[[\"Followers\", \"Interactions\"]].corr(), text_auto=True, title=\"Tweet dataset correlation between Account Followers and Tweet Interactions\")\n",
    "fig.show()\n",
    "# fig.write_html(\"dfcorr_followers_interactions.html\")"
   ]
  },
  {
   "attachments": {},
   "cell_type": "markdown",
   "metadata": {},
   "source": [
    "### Generating a histogram for Account type, various violin plots for numerical variables, and a bar graph detailing total interactions per tweet"
   ]
  },
  {
   "cell_type": "code",
   "execution_count": null,
   "metadata": {},
   "outputs": [],
   "source": [
    "fig = px.histogram(df, x=\"Account type\", title=\"'Account type' Histogram\")\n",
    "fig.show()\n",
    "# fig.write_html(\"hist_acctype.html\")\n",
    "fig = px.violin(df, y=\"Followers\", title=\"'Followers' Violin Plot\")\n",
    "fig.show()\n",
    "# fig.write_html(\"violin_followers.html\")\n",
    "fig = px.violin(df, y=\"Following\", title=\"'Following' Violin Plot\")\n",
    "fig.show()\n",
    "# fig.write_html(\"violin_following.html\")\n",
    "fig = px.violin(df, y=\"Likes\", title=\"'Likes' Violin Plot\")\n",
    "fig.show()\n",
    "# fig.write_html(\"violin_likes.html\")\n",
    "fig = px.violin(df, y=\"Retweets\", title=\"'Retweets' Violin Plot\")\n",
    "fig.show()\n",
    "# fig.write_html(\"violin_retweets.html\")\n",
    "fig = px.violin(df, y=\"Replies\", title=\"'Replies' Violin Plot\")\n",
    "fig.show()\n",
    "# fig.write_html(\"violin_replies.html\")\n",
    "fig = px.bar(df, y=[\"Likes\", \"Retweets\", \"Replies\"], title=\"'Interactions' Bar Graph detailing 'Likes', 'Retweets', and 'Replies'\")\n",
    "fig.show()\n",
    "# fig.write_html(\"bar_interactions.html\")"
   ]
  },
  {
   "attachments": {},
   "cell_type": "markdown",
   "metadata": {},
   "source": [
    "### Generating a heatmap for the binned dataframe, a line graph showing tweet frequency per month, and a scatter plot for tweet interactions per month"
   ]
  },
  {
   "cell_type": "code",
   "execution_count": null,
   "metadata": {},
   "outputs": [],
   "source": [
    "\n",
    "fig = px.imshow(date_df.corr(), text_auto=True, title=\"Binned Monthly Tweet dataset numerical variable correlation\")\n",
    "fig.show()\n",
    "# fig.write_html(\"datedfcorr.html\")\n",
    "fig = go.Figure(data=go.Scatter(x=date_df[\"Month_date\"], y=date_df[\"Count\"],mode='lines', line_color='#ff6f00', name=\"Non-election Period\"))\n",
    "fig.add_trace(go.Scatter(x=date_df[\"Month_date\"], y=date_df[\"ep\"],mode='lines', line=dict(color=\"#0000ff\"), name=\"Election Period\"))\n",
    "fig.update_layout(title=\"Number of Tweets per Month\", xaxis_title=\"Months\", yaxis_title=\"Tweet Count\")\n",
    "fig.show()\n",
    "# fig.write_html(\"tweetfrequency.html\")\n",
    "fig = px.scatter(date_df, x=\"Month\", y=\"Interactions\", color=\"Count\", title=\"Scatter plt showing total tweet interactions per month\")\n",
    "fig.show()\n",
    "# fig.write_html(\"scatterinteraction.html\")"
   ]
  }
 ],
 "metadata": {
  "kernelspec": {
   "display_name": "Python 3",
   "language": "python",
   "name": "python3"
  },
  "language_info": {
   "codemirror_mode": {
    "name": "ipython",
    "version": 3
   },
   "file_extension": ".py",
   "mimetype": "text/x-python",
   "name": "python",
   "nbconvert_exporter": "python",
   "pygments_lexer": "ipython3",
   "version": "3.10.0"
  },
  "orig_nbformat": 4
 },
 "nbformat": 4,
 "nbformat_minor": 2
}
